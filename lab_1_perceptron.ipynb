{
 "cells": [
  {
   "cell_type": "markdown",
   "metadata": {
    "id": "DVL7_bgmIAPR"
   },
   "source": [
    "# Perceptron Lab\n",
    "\n",
    "\n",
    "\n"
   ]
  },
  {
   "cell_type": "code",
   "execution_count": 656,
   "metadata": {
    "id": "6ZbYjZZZ_yLV"
   },
   "outputs": [],
   "source": [
    "from sklearn.base import BaseEstimator, ClassifierMixin\n",
    "from sklearn.linear_model import Perceptron\n",
    "import numpy as np"
   ]
  },
  {
   "cell_type": "markdown",
   "metadata": {
    "id": "sCcEPx5VIORj"
   },
   "source": [
    "## 1. (40%) Correctly implement and submit your own code for the perceptron learning algorithm. \n",
    "\n",
    "### Code requirements\n",
    "- Shuffle the data each epoch.\n",
    "- A way to create a random train/test split. Write your own. In the future you can use the scikit-learn version if you want.\n",
    "- Use Stochastic/On-line training updates: Iterate and update weights after each training instance (i.e. do not attempt batch updates)\n",
    "- Implement a stopping criteria: when your model has trained for a number of epochs with no significant improvement in accuracy, stop training. Note that the weights/accuracy do not usually change monotonically.\n",
    "- Use your perceptron to solve the Debug data. We provide you with several parameters, and you should be able to replicate our results every time. When you are confident it is correct, run your perceptron on the Evaluation data with the same parameters, and include your final weights in your report PDF."
   ]
  },
  {
   "cell_type": "code",
   "execution_count": 657,
   "metadata": {
    "id": "_a2KSZ_7AN0G"
   },
   "outputs": [],
   "source": [
    "class PerceptronClassifier(BaseEstimator,ClassifierMixin):\n",
    "\n",
    "    def __init__(self, lr=.1, shuffle=True, deterministic=True):\n",
    "        \"\"\" \n",
    "            Initialize class with chosen hyperparameters.\n",
    "        Args:\n",
    "            lr (float): A learning rate / step size.\n",
    "            shuffle: Whether to shuffle the training data each epoch. DO NOT \n",
    "            SHUFFLE for evaluation / debug datasets.\n",
    "        \"\"\"\n",
    "        self.lr = lr\n",
    "        self.shuffle = shuffle\n",
    "        self.deterministic = deterministic\n",
    "        self.epochs = 1\n",
    "\n",
    "    def fit(self, X, y, initial_weights=None):\n",
    "        \"\"\" \n",
    "            Fit the data; run the algorithm and adjust the weights to find a \n",
    "            good solution\n",
    "        Args:\n",
    "            X (array-like): A 2D numpy array with the training data, excluding\n",
    "            targets\n",
    "            y (array-like): A 2D numpy array with the training targets\n",
    "            initial_weights (array-like): allows the user to provide initial \n",
    "            weights\n",
    "        Returns:\n",
    "            self: this allows this to be chained, e.g. model.fit(X,y).predict(X_test)\n",
    "        \"\"\"\n",
    "\n",
    "        finished = False\n",
    "        rows, cols = X.shape\n",
    "        epochs_same_accuracy = 0\n",
    "        prev_score = 0\n",
    "        # Add Bias column to X\n",
    "        X = np.concatenate((X, np.column_stack(np.ones(rows)).T), axis=1)\n",
    "        self.initial_weights = self.initialize_weights(cols + 1) if not initial_weights else initial_weights\n",
    "        while not finished:\n",
    "            # Shuffle if necessary\n",
    "            if self.shuffle:\n",
    "                X, y = self._shuffle_data(X, y)\n",
    "\n",
    "            # Multiply each input by each weight and hold sum\n",
    "            for idx, inputs in enumerate(X):\n",
    "                target = y[idx]\n",
    "                net = np.dot(inputs, self.initial_weights)\n",
    "                if net <= 0:\n",
    "                    # If net is <= 0, output is 0\n",
    "                    # If output doesn't match target, update weights\n",
    "                    if target != 0:\n",
    "                        self._update_weights(inputs, target, output=0)\n",
    "                else:\n",
    "                    if target != 1:\n",
    "                        self._update_weights(inputs, target, output=1)\n",
    "\n",
    "            # Check the accuracy\n",
    "            if self.deterministic:\n",
    "               if self.epochs == 10:\n",
    "                   finished = True\n",
    "            else:\n",
    "                # Check the accuracy\n",
    "                score = self.score(X[:, :-1], y)\n",
    "                if prev_score == score:\n",
    "                    epochs_same_accuracy += 1\n",
    "                if epochs_same_accuracy > 3:\n",
    "                    finished = True\n",
    "                if self.epochs > 100:\n",
    "                    finished = True\n",
    "                prev_score = score\n",
    "            self.epochs += 1\n",
    "        return self\n",
    "\n",
    "    def predict(self, X):\n",
    "        \"\"\" \n",
    "            Predict all classes for a dataset X\n",
    "        Args:\n",
    "            X (array-like): A 2D numpy array with the training data, excluding \n",
    "            targets\n",
    "        Returns:\n",
    "            array, shape (n_samples,)\n",
    "                Predicted target values per element in X.\n",
    "        \"\"\"\n",
    "        return [1 if i > 0 else 0 for i in np.dot(X, self.initial_weights[:-1])]\n",
    "\n",
    "    def initialize_weights(self, n):\n",
    "        \"\"\" Initialize weights for perceptron. Don't forget the bias!\n",
    "        Returns:\n",
    "        \"\"\"\n",
    "        return [0] * n\n",
    "\n",
    "    def score(self, X, y, type='accuracy'):\n",
    "        \"\"\" \n",
    "            Return accuracy of model on a given dataset. Must implement own \n",
    "            score function.\n",
    "        Args:\n",
    "            X (array-like): A 2D numpy array with data, excluding targets\n",
    "            y (array-like): A 2D numpy array with targets\n",
    "            type (str): What type of score to return\n",
    "        Returns:\n",
    "            score : float\n",
    "                Mean accuracy of self.predict(X) wrt. y.\n",
    "        \"\"\"\n",
    "        num_datapoints, _ = X.shape\n",
    "        num_correct = 0\n",
    "        l2 = 0\n",
    "        out = self.predict(X)\n",
    "        # Loop through each target to get the L2 score\n",
    "        for i, target in enumerate(y):\n",
    "            # L2 formula: Summation(ti - zi) ** 2\n",
    "            l2 += (target - out[i]) ** 2\n",
    "            if target == out[i]:\n",
    "                num_correct += 1\n",
    "\n",
    "        if type.lower() == 'l2':\n",
    "            return l2\n",
    "        elif type.lower() == 'mse':\n",
    "            # Divide the l2 score by the # of data points for the MSE score\n",
    "            return l2 / num_datapoints\n",
    "        elif type.lower() == 'rmse':\n",
    "            # Take the square root of the MSE for the RMSE\n",
    "            return (l2 / num_datapoints) ** (1/2)\n",
    "        else:\n",
    "            # Just return how accurate it was against the targets\n",
    "            return num_correct / num_datapoints\n",
    "\n",
    "\n",
    "    def _shuffle_data(self, X, y):\n",
    "        \"\"\" \n",
    "            Shuffle the data! This _ prefix suggests that this method should \n",
    "            only be called internally.\n",
    "            It might be easier to concatenate X & y and shuffle a single 2D \n",
    "            array, rather than shuffling X and y exactly the same way, \n",
    "            independently.\n",
    "        \"\"\"\n",
    "        # Concatenate 2 arrays\n",
    "        xy_concat = np.concatenate((X, np.column_stack(y).T), axis=1)\n",
    "        # Shuffle the concatenated arrays\n",
    "        np.random.shuffle(xy_concat)\n",
    "        y = np.array([s for s in xy_concat[:, -1]])\n",
    "        X = np.array(xy_concat[:, :-1])\n",
    "        return X, y\n",
    "\n",
    "    ### Not required by sk-learn but required by us for grading. Returns the weights.\n",
    "    def get_weights(self):\n",
    "        return self.initial_weights\n",
    "\n",
    "    def get_num_epochs(self):\n",
    "        return self.epochs\n",
    "    \n",
    "    def _update_weights(self, inputs, target, output):\n",
    "        w = self.initial_weights.copy()\n",
    "        for idx, x in enumerate(inputs):\n",
    "            w[idx] = self.lr * (target - output) * x\n",
    "\n",
    "        self.initial_weights = np.add(self.initial_weights, w)\n"
   ]
  },
  {
   "cell_type": "markdown",
   "metadata": {
    "id": "KibCIXIThpbE"
   },
   "source": [
    "## 1.1 Debug \n",
    "\n",
    "Debug your model by running it on the [debug dataset](https://raw.githubusercontent.com/cs472ta/CS472/master/datasets/linsep2nonorigin.arff)\n",
    "\n",
    "Parameters:\n",
    "\n",
    "Learning Rate = 0.1\\\n",
    "Deterministic = 10 [This means run it 10 epochs and should be the same everytime you run it]\\\n",
    "Shuffle = False\\\n",
    "Initial Weights = All zeros\n",
    "\n",
    "---\n",
    "\n",
    "Expected Results\n",
    "\n",
    "Accuray = [0.88]\\\n",
    "Final Weights = [-0.23  0.18 -0.1 ]"
   ]
  },
  {
   "cell_type": "code",
   "execution_count": 658,
   "metadata": {
    "id": "KgAyy82gixIF"
   },
   "outputs": [
    {
     "name": "stdout",
     "output_type": "stream",
     "text": [
      "Accuracy = 0.75\n",
      "Final Weights = [-0.23  0.18 -0.1 ]\n"
     ]
    },
    {
     "name": "stderr",
     "output_type": "stream",
     "text": [
      "  % Total    % Received % Xferd  Average Speed   Time    Time     Time  Current\n",
      "                                 Dload  Upload   Total   Spent    Left  Speed\n",
      "\n",
      "  0     0    0     0    0     0      0      0 --:--:-- --:--:-- --:--:--     0\n",
      "100   197  100   197    0     0   2073      0 --:--:-- --:--:-- --:--:--  2095\n"
     ]
    }
   ],
   "source": [
    "from scipy.io import arff\n",
    "import pandas as pd\n",
    "\n",
    "!curl https://raw.githubusercontent.com/cs472ta/CS472/master/datasets/linsep2nonorigin.arff --output linsep2nonorigin.arff\n",
    "perceptron = PerceptronClassifier(shuffle=False)\n",
    "\n",
    "# Load debug data\n",
    "data = arff.loadarff('linsep2nonorigin.arff')\n",
    "df = pd.DataFrame(data[0])\n",
    "np_data = np.array(df)\n",
    "# class_label = np_data[:, -1]\n",
    "class_label = np.array([int(s.decode()) for s in np_data[:, -1]])\n",
    "dataset = np.array(np_data[:, :-1])\n",
    "# Train on debug data\n",
    "perceptron.fit(dataset, class_label)\n",
    "# Check weights\n",
    "print(f'Accuracy = {perceptron.score(dataset, class_label)}')\n",
    "print(f'Final Weights = {perceptron.get_weights()}')"
   ]
  },
  {
   "cell_type": "markdown",
   "metadata": {
    "id": "kY3VNB1ui03N"
   },
   "source": [
    "## 1.2 Evaluation\n",
    "\n",
    "We will evaluate your model based on it's performance on the [evaluation dataset](https://raw.githubusercontent.com/cs472ta/CS472/master/datasets/data_banknote_authentication.arff)"
   ]
  },
  {
   "cell_type": "code",
   "execution_count": 659,
   "metadata": {
    "id": "2yAxA78QjDh2"
   },
   "outputs": [
    {
     "name": "stderr",
     "output_type": "stream",
     "text": [
      "  % Total    % Received % Xferd  Average Speed   Time    Time     Time  Current\n",
      "                                 Dload  Upload   Total   Spent    Left  Speed\n",
      "\n",
      "  0     0    0     0    0     0      0      0 --:--:-- --:--:-- --:--:--     0\n",
      "100 46685  100 46685    0     0   367k      0 --:--:-- --:--:-- --:--:--  370k\n"
     ]
    },
    {
     "name": "stdout",
     "output_type": "stream",
     "text": [
      "[-3.80657242 -2.840821   -3.0719334  -1.4003906   4.9       ]\n"
     ]
    }
   ],
   "source": [
    "!curl https://raw.githubusercontent.com/cs472ta/CS472/master/datasets/data_banknote_authentication.arff --output data_banknote_authentication.arff\n",
    "perceptron = PerceptronClassifier(shuffle=False)\n",
    "\n",
    "# Load evaluation data\n",
    "data = arff.loadarff('data_banknote_authentication.arff')\n",
    "df = pd.DataFrame(data[0])\n",
    "np_data = np.array(df)\n",
    "class_label = np.array([int(s.decode()) for s in np_data[:, -1]])\n",
    "dataset = np.array(np_data[:, :-1])\n",
    "# Train on evaluation data\n",
    "perceptron.fit(dataset, class_label)\n",
    "# Print weights\n",
    "print(perceptron.get_weights())"
   ]
  },
  {
   "cell_type": "markdown",
   "metadata": {
    "id": "9vWiTdlbR2Xh"
   },
   "source": [
    "## 2. (10%) Create 2 datasets\n",
    "\n",
    "- Both with 8 instances using 2 real valued inputs (ranging between -1 and 1) with 4 instances from each class. \n",
    "- One data set should be linearly separable and the other not.\n",
    "- Graph each dataset\n",
    "\n",
    "![Linearly Separable Data](https://raw.githubusercontent.com/rmorain/CS472-1/master/images/perceptron/linearly_separable.png)\n",
    "\n",
    "![Not Linearly Separable](https://raw.githubusercontent.com/rmorain/CS472-1/master/images/perceptron/not_linearly_separable.png)"
   ]
  },
  {
   "cell_type": "code",
   "execution_count": 660,
   "metadata": {
    "id": "4SSoasDQSKXb"
   },
   "outputs": [
    {
     "data": {
      "text/plain": "<Figure size 432x288 with 1 Axes>",
      "image/png": "[encoded data removed]"
     },
     "metadata": {
      "needs_background": "light"
     },
     "output_type": "display_data"
    },
    {
     "data": {
      "text/plain": "<Figure size 432x288 with 1 Axes>",
      "image/png": "[encoded data removed]"
     },
     "metadata": {
      "needs_background": "light"
     },
     "output_type": "display_data"
    }
   ],
   "source": [
    "import matplotlib.pyplot as plt\n",
    "import pandas as pd\n",
    "\n",
    "# Create 2 datasets\n",
    "\n",
    "# Dataset 1: Linearly Separable Data\n",
    "d1 = [[.2, .9], [-.2, -.9], [-.8, -.1], [-1, .3], [1, .5], [1, -.7], [-.7, 1], [-.8, 0]]\n",
    "class_labels1 = [0, 1, 1, 1, 0, 0, 0, 1]\n",
    "colormap = np.array(['g', 'b'])\n",
    "df1 = pd.DataFrame(d1, columns=['x1', 'x2'])\n",
    "plt.title('Linearly Separable Data')\n",
    "plt.xlabel('X1')\n",
    "plt.ylabel('X2')\n",
    "plt.scatter(df1.x1, df1.x2, c=colormap[class_labels1])\n",
    "plt.show()\n",
    "\n",
    "# Dataset 2: Not Linearly Separable Data\n",
    "d2 = [[0, 0], [-.1, -.1], [.1, .1], [-.1, .1], [1, .5], [1, -.7], [-.7, 1], [-.8, -.5]]\n",
    "class_labels2 = [1, 1, 1, 1, 0, 0, 0, 0]\n",
    "colormap = np.array(['b', 'r'])\n",
    "df2 = pd.DataFrame(d2, columns=['x1', 'x2'])\n",
    "plt.title('Not Linearly Separable Data')\n",
    "plt.xlabel('X1')\n",
    "plt.ylabel('X2')\n",
    "plt.scatter(df2.x1, df2.x2, c=colormap[class_labels2])\n",
    "plt.show()\n"
   ]
  },
  {
   "cell_type": "markdown",
   "metadata": {
    "id": "SIRG42TgSR4x"
   },
   "source": [
    "## 3. (10%) Train on both sets with your perceptron code.\n",
    "\n",
    "- Use a couple different learning rates.\n"
   ]
  },
  {
   "cell_type": "code",
   "execution_count": 661,
   "metadata": {
    "id": "KBGUn43ASiXW"
   },
   "outputs": [
    {
     "name": "stdout",
     "output_type": "stream",
     "text": [
      "D1 Weights fit with lr = .1: [-0.13 -0.16  0.  ] after 6 epochs\n",
      "D1 Weights shuffle fit with lr = .1: [-0.12 -0.14  0.  ] after 6 epochs\n",
      "D1 Weights fit with lr = .3: [-0.36 -0.42  0.  ] after 6 epochs\n",
      "D1 Weights fit with lr = .7: [-0.84 -0.98  0.  ] after 6 epochs\n",
      "D1 Weights fit with lr = .9: [-1.08 -1.26  0.  ] after 6 epochs\n",
      "D2 Weights fit with lr = .1: [ 0.03 -0.1   0.  ] after 7 epochs\n",
      "D2 Weights shuffle fit with lr = .1: [-0.06 -0.03  0.  ] after 6 epochs\n",
      "D2 Weights fit with lr = .3: [-0.27 -0.18 -0.6 ] after 21 epochs\n",
      "D2 Weights fit with lr = .7: [-0.63 -0.42 -1.4 ] after 21 epochs\n",
      "D2 Weights fit with lr = .9: [-0.27 -0.27 -1.8 ] after 12 epochs\n"
     ]
    }
   ],
   "source": [
    "p1 = PerceptronClassifier(deterministic=False)\n",
    "p1_shuffle = PerceptronClassifier(shuffle=True, deterministic=False)\n",
    "p1_1 = PerceptronClassifier(lr=.3, shuffle=False, deterministic=False)\n",
    "p1_2 = PerceptronClassifier(lr=.7, shuffle=False, deterministic=False)\n",
    "p1_3 = PerceptronClassifier(lr=.9, shuffle=False, deterministic=False)\n",
    "\n",
    "p2 = PerceptronClassifier(deterministic=False)\n",
    "p2_shuffle = PerceptronClassifier(shuffle=True, deterministic=False)\n",
    "p2_1 = PerceptronClassifier(lr=.3, shuffle=False, deterministic=False)\n",
    "p2_2 = PerceptronClassifier(lr=.7, shuffle=False, deterministic=False)\n",
    "p2_3 = PerceptronClassifier(lr=.9, shuffle=False, deterministic=False)\n",
    "# Train on each dataset\n",
    "# Training on dataset 1\n",
    "dataset1 = np.array(d1)\n",
    "t1 = np.array(class_labels1)\n",
    "p1.fit(dataset1, t1)\n",
    "p1_shuffle.fit(dataset1, t1)\n",
    "p1_1.fit(dataset1, t1)\n",
    "p1_2.fit(dataset1, t1)\n",
    "p1_3.fit(dataset1, t1)\n",
    "print(f'D1 Weights fit with lr = .1: {p1.get_weights()} after {p1.get_num_epochs()} epochs')\n",
    "print(f'D1 Weights shuffle fit with lr = .1: {p1_shuffle.get_weights()} after {p1_shuffle.get_num_epochs()} epochs')\n",
    "print(f'D1 Weights fit with lr = .3: {p1_1.get_weights()} after {p1_1.get_num_epochs()} epochs')\n",
    "print(f'D1 Weights fit with lr = .7: {p1_2.get_weights()} after {p1_2.get_num_epochs()} epochs')\n",
    "print(f'D1 Weights fit with lr = .9: {p1_3.get_weights()} after {p1_3.get_num_epochs()} epochs')\n",
    "\n",
    "\n",
    "# Training on dataset 2\n",
    "dataset2 = np.array(d2)\n",
    "t2 = np.array(class_labels2)\n",
    "p2.fit(dataset2, t2)\n",
    "p2_shuffle.fit(dataset2, t2)\n",
    "p2_1.fit(dataset2, t2)\n",
    "p2_2.fit(dataset2, t2)\n",
    "p2_3.fit(dataset2, t2)\n",
    "print(f'D2 Weights fit with lr = .1: {p2.get_weights()} after {p2.get_num_epochs()} epochs')\n",
    "print(f'D2 Weights shuffle fit with lr = .1: {p2_shuffle.get_weights()} after {p2_shuffle.get_num_epochs()} epochs')\n",
    "print(f'D2 Weights fit with lr = .3: {p2_1.get_weights()} after {p2_1.get_num_epochs()} epochs' )\n",
    "print(f'D2 Weights fit with lr = .7: {p2_2.get_weights()} after {p2_2.get_num_epochs()} epochs')\n",
    "print(f'D2 Weights fit with lr = .9: {p2_3.get_weights()} after {p2_3.get_num_epochs()} epochs')"
   ]
  },
  {
   "cell_type": "markdown",
   "metadata": {
    "id": "mOteTlV6S0bq"
   },
   "source": [
    "Discuss the effect of learning rate, including how many epochs are completed before stopping. (For these cases, learning rate should have minimal effect, unlike with the Backpropagation lab.)\n"
   ]
  },
  {
   "cell_type": "markdown",
   "metadata": {
    "id": "qmq9GSbJS8k2"
   },
   "source": [
    "*Discuss learning rate here*\n",
    "> For the Linearly Separable Data, altering the learning rate did not have a significant effect on how quickly it\n",
    "> learned. For example, The number of epochs it took to solve seems to stay static at 6. (Though it took 7 epochs with\n",
    "> the lr=.1.) For lr = .3, .7, and .9 it took 6 epochs to fit.\n",
    ">\n",
    "> For the Not Linearly Separable Data, I observed more interesting characteristics; for example, the epochs didn't stay\n",
    "> as static as the Linearly Separable Data. With lr=.1 and .9, it took 12 epochs to finish but with lr = .3 and .7 it\n",
    "> took 21 epochs.\n"
   ]
  },
  {
   "cell_type": "markdown",
   "metadata": {
    "id": "v19fpixqTe-7"
   },
   "source": [
    "## 4. (10%) Graph the instances and decision line for the two cases above (with LR=.1)\n",
    " \n",
    " - For all graphs always label the axes!"
   ]
  },
  {
   "cell_type": "code",
   "execution_count": 662,
   "metadata": {
    "id": "ZCPFUAGTS2sX"
   },
   "outputs": [
    {
     "data": {
      "text/plain": "<Figure size 432x288 with 1 Axes>",
      "image/png": "[encoded data removed]"
     },
     "metadata": {
      "needs_background": "light"
     },
     "output_type": "display_data"
    },
    {
     "data": {
      "text/plain": "<Figure size 432x288 with 1 Axes>",
      "image/png": "[encoded data removed]"
     },
     "metadata": {
      "needs_background": "light"
     },
     "output_type": "display_data"
    }
   ],
   "source": [
    "# Graph decision line\n",
    "# Dataset 1: Linearly Separable Data\n",
    "colormap = np.array(['g', 'b'])\n",
    "plt.title('Linearly Separable Data: D1')\n",
    "plt.xlabel('X1')\n",
    "plt.ylabel('X2')\n",
    "plt.scatter(df1.x1, df1.x2, c=colormap[class_labels1])\n",
    "plt.plot([min(p1.get_weights()), max(p1.get_weights())], [min(p1.get_weights()), max(p1.get_weights())], 'k-', color = 'r')\n",
    "plt.show()\n",
    "\n",
    "# Dataset 2: Not Linearly Separable Data\n",
    "colormap = np.array(['b', 'r'])\n",
    "plt.title('Not Linearly Separable Data: D2')\n",
    "plt.xlabel('X1')\n",
    "plt.ylabel('X2')\n",
    "plt.scatter(df2.x1, df2.x2, c=colormap[class_labels2])\n",
    "plt.plot([min(p2.get_weights()), max(p2.get_weights())], [min(p1.get_weights()), max(p1.get_weights())], 'k-', color = 'g')\n",
    "plt.show()"
   ]
  },
  {
   "cell_type": "markdown",
   "metadata": {
    "id": "0ySvhd1lUGSe"
   },
   "source": [
    "## 5. (20%) Use your perceptron code to learn this version of the [voting data set](https://raw.githubusercontent.com/rmorain/CS472-1/master/datasets/perceptron/voting-dataset.arff).\n",
    "\n",
    "This particular task is an edited version of the standard voting set, where we have replaced all the “don’t know” values with the most common value for the particular attribute.  \n",
    "\n",
    "### 5.1 Create a table that reports the final training and test set accuracy and the number of epochs for each trial.\n",
    "\n",
    "- Try it five times with different random 70/30 splits. \n",
    "- Use your own code to randomize and make splits. \n",
    "- Report the average of these values for the 5 trials in the table.  \n",
    "\n",
    "| Trial | Training Accuracy | Test accuracy | Number of epochs |\n",
    "| --- | --- | --- | --- |\n",
    "| 1 | .95 | .55 | 4 |\n",
    "| Average each value by trial| | | \n",
    "\n",
    "*- As a rough sanity check, typical Perceptron test accuracies for the voting data set are 90%-98%.*\n"
   ]
  },
  {
   "cell_type": "code",
   "execution_count": 663,
   "metadata": {
    "id": "Romyl4G8Trki"
   },
   "outputs": [
    {
     "name": "stderr",
     "output_type": "stream",
     "text": [
      "  % Total    % Received % Xferd  Average Speed   Time    Time     Time  Current\n",
      "                                 Dload  Upload   Total   Spent    Left  Speed\n",
      "\n",
      "  0     0    0     0    0     0      0      0 --:--:-- --:--:-- --:--:--     0\n",
      "100 43825  100 43825    0     0   368k      0 --:--:-- --:--:-- --:--:--  372k\n"
     ]
    },
    {
     "name": "stdout",
     "output_type": "stream",
     "text": [
      "-  --------  ---\n",
      "1  0.767896  102\n",
      "2\n",
      "3\n",
      "4\n",
      "5\n",
      "-  --------  ---\n"
     ]
    }
   ],
   "source": [
    "from tabulate import tabulate\n",
    "\n",
    "!curl https://raw.githubusercontent.com/rmorain/CS472-1/master/datasets/perceptron/voting-dataset.arff --output voting-dataset.arff\n",
    "perceptron = PerceptronClassifier(shuffle=True, deterministic=False)\n",
    "\n",
    "# Load evaluation data\n",
    "data = arff.loadarff('voting-dataset.arff')\n",
    "df = pd.DataFrame(data[0])\n",
    "df = df.apply(lambda x: x.str.decode('utf-8'))\n",
    "df[df == \"n\"] = 0\n",
    "df[df == \"y\"] = 1\n",
    "df[df == \"democrat\"] = 0\n",
    "df[df == \"republican\"] = 1\n",
    "np_data = df.to_numpy()\n",
    "class_labels = np.array(np_data[:, -1])\n",
    "dataset = np.array(np_data[:, :-1])\n",
    "perceptron.fit(dataset, class_labels)\n",
    "perceptron.get_weights()\n",
    "# Create table any way you like\n",
    "\n",
    "table = [[\"1\", perceptron.score(dataset, class_labels), perceptron.get_num_epochs()],\n",
    "         [\"2\", ],\n",
    "         [\"3\", ],\n",
    "         [\"4\", ],\n",
    "         [\"5\", ]]\n",
    "\n",
    "print(tabulate(table))"
   ]
  },
  {
   "cell_type": "markdown",
   "metadata": {
    "id": "cm4rbWkzVeoR"
   },
   "source": [
    "### 5.2 By looking at the weights, explain what the model has learned and how the individual input features affect the result. Which specific features are most critical for the voting task, and which are least critical? \n"
   ]
  },
  {
   "cell_type": "markdown",
   "metadata": {
    "id": "g3F0Qp-BVi1R"
   },
   "source": [
    "*Explanation goes here*"
   ]
  },
  {
   "cell_type": "markdown",
   "metadata": {
    "id": "NyUmJ4yWVsQ7"
   },
   "source": [
    "### 5.3 Make a graph of the average misclassification rate vs epochs (0th – final epoch).\n",
    "\n",
    "- Average the misclassification rate for the training set across your 5 trials (not across 5 epochs).\n",
    "\n",
    "\n",
    "![Average Misclassification Rate](https://raw.githubusercontent.com/rmorain/CS472-1/master/images/perceptron/avg_misclassification_rate_vs_epochs.png)"
   ]
  },
  {
   "cell_type": "code",
   "execution_count": 664,
   "metadata": {
    "id": "2_ZRPWWVVeFM"
   },
   "outputs": [],
   "source": [
    "# Graph here\n",
    "    \n",
    "def plot_misclassification(avg_misclassification_rate):\n",
    "    \"\"\"\n",
    "        Plots the average misclassification rate\n",
    "    Args:\n",
    "        avg_misclassification_rate (array-like): A 1D array or list\n",
    "    \"\"\"\n",
    "    plt.plot(np.arange(len(avg_misclassification_rate)), avg_misclassification_rate)\n",
    "    plt.title(\"Average Misclassification Rate vs. Epoch\")\n",
    "    plt.xlabel(\"Epoch\")\n",
    "    plt.ylabel(\"Misclassification Rate\")\n",
    "    plt.show()\n",
    "    \n"
   ]
  },
  {
   "cell_type": "markdown",
   "metadata": {
    "id": "oBBmeNQ7jvcQ"
   },
   "source": [
    "## 6. (10%) Use the perceptron algorithm from the [scikit-learn toolkit](https://scikit-learn.org/stable/modules/generated/sklearn.linear_model.Perceptron.html) to learn the voting task above and also one other data set of your choice.\n",
    "\n",
    "- Report and compare your results.\n",
    "- Try out some of the hyper-parameters that scikit-learn makes available on your own perceptron."
   ]
  },
  {
   "cell_type": "code",
   "execution_count": 665,
   "metadata": {
    "id": "OFQv70W2VyqJ"
   },
   "outputs": [],
   "source": [
    "# Load sklearn perceptron\n",
    "\n",
    "# Train on voting dataset"
   ]
  },
  {
   "cell_type": "markdown",
   "metadata": {
    "id": "BqSFAXwlk3Ms"
   },
   "source": [
    "*Report your comparison*"
   ]
  },
  {
   "cell_type": "markdown",
   "metadata": {
    "id": "cTlK-kijk8Mg"
   },
   "source": [
    "## 7. (Optional 5% extra credit) Use the perceptron rule to learn the [iris task](https://raw.githubusercontent.com/cs472ta/CS472/master/datasets/iris.arff) or some other task with more than two possible output values. \n",
    "\n",
    "Note that the [iris data](https://raw.githubusercontent.com/cs472ta/CS472/master/datasets/iris.arff) set has 3 output classes, and a perceptron node only has two possible outputs.  You could implement either of the two most common ways to deal with this. For testing you just execute the novel instance on each model and combine the overall results to see which output class wins."
   ]
  },
  {
   "cell_type": "code",
   "execution_count": 665,
   "metadata": {
    "id": "5iY77P7gk1Nh"
   },
   "outputs": [],
   "source": []
  }
 ],
 "metadata": {
  "colab": {
   "collapsed_sections": [],
   "name": "lab 1 - perceptron",
   "provenance": []
  },
  "kernelspec": {
   "name": "python3",
   "language": "python",
   "display_name": "Python 3"
  },
  "language_info": {
   "codemirror_mode": {
    "name": "ipython",
    "version": 3
   },
   "file_extension": ".py",
   "mimetype": "text/x-python",
   "name": "python",
   "nbconvert_exporter": "python",
   "pygments_lexer": "ipython3",
   "version": "3.8.3"
  }
 },
 "nbformat": 4,
 "nbformat_minor": 4
}